{
 "cells": [
  {
   "cell_type": "code",
   "execution_count": 1,
   "metadata": {},
   "outputs": [
    {
     "name": "stderr",
     "output_type": "stream",
     "text": [
      "C:\\Users\\Valyr\\AppData\\Local\\Packages\\PythonSoftwareFoundation.Python.3.7_qbz5n2kfra8p0\\LocalCache\\local-packages\\Python37\\site-packages\\tqdm\\auto.py:22: TqdmWarning: IProgress not found. Please update jupyter and ipywidgets. See https://ipywidgets.readthedocs.io/en/stable/user_install.html\n",
      "  from .autonotebook import tqdm as notebook_tqdm\n"
     ]
    }
   ],
   "source": [
    "import torch\n",
    "import torchvision\n",
    "import torchvision.transforms as transforms\n",
    "import torch.nn as nn\n",
    "import torch.optim as optim\n",
    "import scipy.io\n",
    "import os\n",
    "import requests\n",
    "import tarfile\n"
   ]
  },
  {
   "cell_type": "code",
   "execution_count": 2,
   "metadata": {},
   "outputs": [],
   "source": [
    "# # download the flowers dataset\n",
    "url = \"http://www.robots.ox.ac.uk/~vgg/data/flowers/102/102flowers.tgz\"\n",
    "filename = \"flowers.tgz\"\n",
    "response = requests.get(url)\n",
    "open(filename, \"wb\").write(response.content)\n",
    "with tarfile.open(filename) as tar:\n",
    "    tar.extractall()\n",
    "os.remove(filename)"
   ]
  },
  {
   "cell_type": "code",
   "execution_count": null,
   "metadata": {},
   "outputs": [],
   "source": [
    "# Load the image labels from the .mat file\n",
    "url = \"https://www.robots.ox.ac.uk/~vgg/data/flowers/102/imagelabels.mat\"\n",
    "response = requests.get(url)\n",
    "\n",
    "with open(\"imagelabels.mat\", \"wb\") as f:\n",
    "    f.write(response.content)\n",
    "\n",
    "mat = scipy.io.loadmat(\"imagelabels.mat\")\n",
    "labels = mat['labels'].flatten()"
   ]
  },
  {
   "cell_type": "code",
   "execution_count": null,
   "metadata": {},
   "outputs": [],
   "source": [
    "# Create a list of images and their corresponding labels\n",
    "images = []\n",
    "for i in range(len(labels)):\n",
    "    image_path = os.path.join( 'jpg', f'image_{i + 1:05d}.jpg')\n",
    "    if os.path.exists(image_path):\n",
    "        images.append((image_path, labels[i-1]))"
   ]
  },
  {
   "cell_type": "code",
   "execution_count": null,
   "metadata": {},
   "outputs": [],
   "source": [
    "# Create directories for each class\n",
    "classes = set(labels)\n",
    "for class_ in classes:\n",
    "    class_dir = os.path.join('flowers', 'train', str(class_))\n",
    "    os.makedirs(class_dir, exist_ok=True)\n"
   ]
  },
  {
   "cell_type": "code",
   "execution_count": null,
   "metadata": {},
   "outputs": [],
   "source": [
    "# Link the images to their respective class directories\n",
    "for image_path, label in images:\n",
    "    target_path = os.path.join('flowers', 'train', str(label), os.path.basename(image_path))\n",
    "    i = 0\n",
    "    while os.path.exists(target_path):\n",
    "        filename, ext = os.path.splitext(os.path.basename(target_path))\n",
    "        target_path = os.path.join('flowers', 'train', str(label), f'{filename}{ext}')\n",
    "        i += 1\n",
    "    os.link(image_path, target_path)"
   ]
  },
  {
   "cell_type": "code",
   "execution_count": null,
   "metadata": {},
   "outputs": [],
   "source": [
    "# Load the Flowers dataset with the specified transforms\n",
    "transform = transforms.Compose([\n",
    "    transforms.Resize(256),\n",
    "    transforms.CenterCrop(224),\n",
    "    transforms.ToTensor(),\n",
    "    transforms.Normalize([0.485, 0.456, 0.406], [0.229, 0.224, 0.225])\n",
    "])\n",
    "\n",
    "dataset = torchvision.datasets.ImageFolder(root=os.path.join('flowers', 'train'), transform=transform)\n",
    "dataloader = torch.utils.data.DataLoader(dataset, batch_size=32, shuffle=True, num_workers=4)"
   ]
  },
  {
   "cell_type": "code",
   "execution_count": 5,
   "metadata": {},
   "outputs": [],
   "source": [
    "# Use GPU if available, otherwise use CPU\n",
    "device = torch.device(\"cuda\" if torch.cuda.is_available() else \"cpu\")\n",
    "model = model.to(device)"
   ]
  },
  {
   "cell_type": "code",
   "execution_count": null,
   "metadata": {},
   "outputs": [],
   "source": [
    "# Load the pre-trained ResNet 50 model\n",
    "model = torchvision.models.resnet50(pretrained=True)\n",
    "\n",
    "# Freeze all layers except the last one\n",
    "# This is done to prevent the model's pre-trained parameters from being changed during training.\n",
    "# The idea is to keep the feature extraction part intact and only update the fully connected layer\n",
    "for param in model.parameters():\n",
    "    param.requiresGrad = False\n",
    "model.fc.requiresGrad = True\n",
    "\n",
    "# Set up the loss function and optimizer\n",
    "# CrossEntropyLoss is used for multi-class classification problems\n",
    "# SGD is used as the optimizer with a learning rate of 0.001 and momentum of 0.9\n",
    "criterion = nn.CrossEntropyLoss()\n",
    "optimizer = optim.SGD(model.fc.parameters(), lr=0.001, momentum=0.9)"
   ]
  },
  {
   "cell_type": "code",
   "execution_count": null,
   "metadata": {},
   "outputs": [],
   "source": [
    "# Train the model for 10 epochs\n",
    "for epoch in range(10): \n",
    "    running_loss = 0.0\n",
    "    for i, data in enumerate(dataloader, 0):\n",
    "        inputs, labels = data\n",
    "        inputs = inputs.to(device)\n",
    "        labels = labels.to(device)\n",
    "\n",
    "        # Zero the gradients before each iteration\n",
    "        optimizer.zero_grad()\n",
    "\n",
    "        # Forward pass\n",
    "        outputs = model(inputs)\n",
    "        loss = criterion(outputs, labels)\n",
    "\n",
    "        # Backward pass\n",
    "        loss.backward()\n",
    "\n",
    "        # Update the weights\n",
    "        optimizer.step()\n",
    "\n",
    "        running_loss += loss.item()\n",
    "    print('[Epoch %d] loss: %.3f' % (epoch + 1, running_loss / len(dataloader)))\n",
    "\n",
    "print('Finished Training')"
   ]
  }
 ],
 "metadata": {
  "kernelspec": {
   "display_name": "Python 3",
   "language": "python",
   "name": "python3"
  },
  "language_info": {
   "codemirror_mode": {
    "name": "ipython",
    "version": 3
   },
   "file_extension": ".py",
   "mimetype": "text/x-python",
   "name": "python",
   "nbconvert_exporter": "python",
   "pygments_lexer": "ipython3",
   "version": "3.7.9"
  },
  "orig_nbformat": 4,
  "vscode": {
   "interpreter": {
    "hash": "3c7dbb3a6a501f1b4d72483d3bfa7a4cc919d3ee89cd9e72e10a8d8d09f7e3cd"
   }
  }
 },
 "nbformat": 4,
 "nbformat_minor": 2
}
